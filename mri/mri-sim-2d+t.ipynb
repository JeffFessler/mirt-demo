{
 "cells": [
  {
   "cell_type": "markdown",
   "metadata": {},
   "source": [
    "### 2D+T dynamic MRI simulation\n",
    "using GA radial sampling\n",
    "reconstructed with temporal \"TV\" regularizer (corner-rounded)  \n",
    "2019-06-13, Jeff Fessler  \n",
    "2019-06-23 update to use more realistic simulated sensitivity maps  \n",
    "2020-06-20 update"
   ]
  },
  {
   "cell_type": "code",
   "execution_count": null,
   "metadata": {
    "lines_to_next_cell": 2
   },
   "outputs": [],
   "source": [
    "using MIRT: jim, prompt\n",
    "using MIRT: image_geom, ellipse_im_params, ellipse_im\n",
    "using MIRT: nufft_init, diffl_map, ncg\n",
    "using MIRT: ir_mri_sensemap_sim, ir_mri_kspace_ga_radial\n",
    "using Plots: gui, plot, scatter, default; default(markerstrokecolor=:auto)\n",
    "using LinearAlgebra: norm, dot, Diagonal\n",
    "using LinearMapsAA\n",
    "using Random: seed!\n",
    "jim(:abswarn, false); # suppress warnings about display of |complex| images"
   ]
  },
  {
   "cell_type": "code",
   "execution_count": null,
   "metadata": {
    "lines_to_next_cell": 2
   },
   "outputs": [],
   "source": [
    "# generate dynamic image sequence\n",
    "if !@isdefined(xtrue)\n",
    "\tN = (60,64)\n",
    "\tfov = 220\n",
    "\tnt = 8 # frames\n",
    "\tig = image_geom(nx=N[1], ny=N[2], fov=fov)\n",
    "\n",
    "\tellpar = ellipse_im_params(ig, :southpark)\n",
    "\tellpars = Array{Float32}(undef, size(ellpar)..., nt)\n",
    "\txtrue = Array{ComplexF32}(undef, N..., nt)\n",
    "\tfor it=1:nt\n",
    "\t\ttmp = ellpar\n",
    "\t\ttmp[2,4] = 15 + 5 * sin(2*pi*it/nt) # mouth open/close\n",
    "\t\tellpars[:,:,it] = tmp\n",
    "\t\txtrue[:,:,it] = ellipse_im(ig, ellpars[:,:,it], oversample=4)\n",
    "\t\tjim(ig.x, ig.y, xtrue[:,:,it], title=\"frame $it\")\n",
    "\t\tgui()\n",
    "\tend\n",
    "end\n",
    "jim(xtrue, yflip=ig.dy < 0)\n",
    "#prompt()"
   ]
  },
  {
   "cell_type": "code",
   "execution_count": null,
   "metadata": {
    "lines_to_next_cell": 2
   },
   "outputs": [],
   "source": [
    "# plot one time course to see temporal change\n",
    "ix,iy = 30,14\n",
    "plot(1:nt, abs.(xtrue[ix,iy,:]), label=\"ix=$ix, iy=$iy\",\n",
    "\tmarker=:o, xlabel=\"frame\")\n",
    "#prompt()"
   ]
  },
  {
   "cell_type": "code",
   "execution_count": null,
   "metadata": {
    "lines_to_next_cell": 2
   },
   "outputs": [],
   "source": [
    "# k-space sampling and data\n",
    "if !@isdefined(kspace)\n",
    "\t@show accelerate = 3\n",
    "\t@show nspf = round(Int, maximum(N)/accelerate) # spokes per frame\n",
    "\tNro = maximum(N)\n",
    "\tNspoke = nspf * nt\n",
    "\tkspace = ir_mri_kspace_ga_radial(Nro = Nro, Nspoke = Nspoke)\n",
    "\tkspace[:,:,1] ./= ig.fovs[1]\n",
    "\tkspace[:,:,2] ./= ig.fovs[2]\n",
    "\tkspace = reshape(kspace, Nro, nspf, nt, 2)\n",
    "\n",
    "\tif true # plot sampling (in units of cycles/pixel)\n",
    "\t\tps = Array{Any}(undef, nt)\n",
    "\t\tfor it=1:nt\n",
    "\t\t\tps[it] = scatter(kspace[:,:,it,1] * ig.fovs[1], kspace[:,:,it,2] * ig.fovs[2],\n",
    "\t\t\t\txtick=(-1:1)*0.5, ytick=(-1:1)*0.5, xlim=[-1,1]*0.52, ylim=[-1,1]*0.52,\n",
    "\t\t\t\taspect_ratio=1, label=\"\", markersize=1)\n",
    "\t\t\tplot(ps[it])\n",
    "\t\t\tgui()\n",
    "\t\tend\n",
    "\t\tplot(ps..., layout=(2,4))\n",
    "\t#\tprompt()\n",
    "\tend\n",
    "end"
   ]
  },
  {
   "cell_type": "code",
   "execution_count": null,
   "metadata": {
    "lines_to_next_cell": 2
   },
   "outputs": [],
   "source": [
    "# make sensitivity maps, normalized so SSoS = 1\n",
    "if !@isdefined(smap)\n",
    "\tncoil = 2\n",
    "\tsmap = ir_mri_sensemap_sim(dims=N, ncoil=ncoil, orbit_start=[90])\n",
    "\tp1 = jim(smap, \"ncoil=$ncoil sensitivity maps raw\")\n",
    "\n",
    "\tssos = sqrt.(sum(abs.(smap).^2, dims=ndims(smap))) # SSoS\n",
    "\tssos = selectdim(ssos, ndims(smap), 1)\n",
    "\tp2 = jim(ssos, \"SSoS\")\n",
    "\n",
    "\tfor ic=1:ncoil\n",
    "\t\tselectdim(smap, ndims(smap), ic) ./= ssos\n",
    "\tend\n",
    "\tp3 = jim(smap, \"ncoil=$ncoil sensitivity maps\")\n",
    "\n",
    "\tssos = sqrt.(sum(abs.(smap).^2, dims=ndims(smap))) # SSoS\n",
    "\t@assert all(isapprox.(ssos,1))\n",
    "\tplot(p1, p2, p3)\n",
    "#\tprompt()\n",
    "end\n",
    "#-"
   ]
  },
  {
   "cell_type": "code",
   "execution_count": null,
   "metadata": {
    "lines_to_next_cell": 2
   },
   "outputs": [],
   "source": [
    "# make system matrix for dynamic non-Cartesian parallel MRI\n",
    "if !@isdefined(A)\n",
    "\t# a NUFFT object for each frame\n",
    "\tns = Array{Any}(undef, nt)\n",
    "\tfor it=1:nt\n",
    "\t\tom = [kspace[:,:,it,1][:] kspace[:,:,it,2][:]] * fov * 2 * pi\n",
    "\t\tns[it] = nufft_init(om, N, n_shift = collect(N)/2)\n",
    "\tend\n",
    "\n",
    "\t# block diagonal system matrix, with one NUFFT per frame\n",
    "\tS = [Diagonal(selectdim(smap, ndims(smap), ic)[:]) for ic=1:ncoil]\n",
    "\tSO = s -> LinearMapAA(s ; idim=N, odim=N) # LinearMapAO\n",
    "\tAS1 = A1 -> vcat([A1 * SO(s) for s in S]...) # [A1*S1; ... ; A1*Sncoil]\n",
    "\n",
    "\t# output is essentially [nt Ncoil nspf Nro] (which is possibly unusual)\n",
    "\t# input is [N... nt]\n",
    "\tA = block_diag([AS1(s.A) for s in ns]...)\n",
    "end\n",
    "#-"
   ]
  },
  {
   "cell_type": "code",
   "execution_count": null,
   "metadata": {
    "lines_to_next_cell": 2
   },
   "outputs": [],
   "source": [
    "# simulate k-space data via an inverse crime\n",
    "if !@isdefined(y)\n",
    "\tytrue = A * xtrue\n",
    "\n",
    "\tsnr2sigma = (db, yb) -> # compute noise sigma from SNR (no sqrt(2) needed)\n",
    "\t\t10^(-db/20) * norm(yb) / sqrt(length(yb))\n",
    "\n",
    "\tsig = Float32(snr2sigma(50, ytrue))\n",
    "\tseed!(0)\n",
    "\ty = ytrue + sig * randn(ComplexF32, size(ytrue))\n",
    "\t@show 20*log10(norm(ytrue) / norm(y - ytrue)) # verify SNR\n",
    "end\n",
    "#-\n",
    "\n",
    "\n",
    "# initial image via zero-fill and scaling\n",
    "if !@isdefined(x0)\n",
    "\t# todo: should use density compensation, perhaps via\n",
    "\t# https://github.com/JuliaGeometry/VoronoiDelaunay.jl\n",
    "\tx0 = A' * y # zero-filled recon (for each frame)\n",
    "\ttmp = A * x0 # Nkspace × Ncoil × Nframe\n",
    "\tx0 = (dot(tmp,y) / norm(tmp)^2) * x0 # scale sensibly\n",
    "\tjim(x0, \"initial image\", yflip=ig.dy < 0)\n",
    "end\n",
    "#prompt()"
   ]
  },
  {
   "cell_type": "code",
   "execution_count": null,
   "metadata": {
    "lines_to_next_cell": 2
   },
   "outputs": [],
   "source": [
    "# temporal finite differences\n",
    "if !@isdefined(Dt)\n",
    "\tDt = diffl_map((N..., nt), length(N)+1 ; T=eltype(A))\n",
    "\ttmp = Dt' * (Dt * xtrue)\n",
    "\tjim(tmp, \"time diff\", yflip=ig.dy < 0)\n",
    "end\n",
    "#prompt()"
   ]
  },
  {
   "cell_type": "code",
   "execution_count": null,
   "metadata": {},
   "outputs": [],
   "source": [
    "# run nonlinear CG\n",
    "if !@isdefined(xh)\n",
    "\tniter = 90\n",
    "\tdelta = Float32(0.1) # small relative to temporal differences\n",
    "\treg = Float32(2^20) # trial and error here\n",
    "\tffair = (t,d) -> d^2 * (abs(t)/d - log(1 + abs(t)/d))\n",
    "\tpot = z -> ffair(z, delta)\n",
    "\tdpot = z -> z / (Float32(1) + abs(z/delta))\n",
    "\tcost = x -> 0.5 * norm(A*x - y)^2 + reg * sum(pot.(Dt * x))\n",
    "\tfun = (x,iter) -> cost(x)\n",
    "\tgradf = [v -> v - y, u -> reg * dpot.(u)]\n",
    "\tcurvf = [v -> Float32(1), u -> reg]\n",
    "\tB = [A, Dt]\n",
    "\t(xh, out) = ncg(B, gradf, curvf, x0 ; niter=niter, fun=fun)\n",
    "\tcosts = [out[i+1][1] for i=0:niter]\n",
    "end\n",
    "\n",
    "# show results\n",
    "\tplot(layout=(2,2),\n",
    "\t\tjim(xtrue, \"xtrue\", yflip=ig.dy < 0),\n",
    "\t\tjim(xh, \"recon\", yflip=ig.dy < 0),\n",
    "\t\tjim(xh-xtrue, \"error\", yflip=ig.dy < 0),\n",
    "\t\tscatter(0:niter, log.(costs), label=\"cost\", xlabel=\"iteration\"),\n",
    "\t)"
   ]
  }
 ],
 "metadata": {
  "kernelspec": {
   "display_name": "Julia 1.4.2",
   "language": "julia",
   "name": "julia-1.4"
  }
 },
 "nbformat": 4,
 "nbformat_minor": 2
}
