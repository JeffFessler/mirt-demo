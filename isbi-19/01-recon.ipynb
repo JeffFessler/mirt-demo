{
 "cells": [
  {
   "cell_type": "markdown",
   "metadata": {},
   "source": [
    "### MRI reconstruction demo\n",
    "Single-coil under-sampled data reconstructed two ways:\n",
    "* edge-preserving regularization (akin to corner-rounding anisotropic TV) using gradient-based methods\n",
    "* synthesis sparsity via 1-norm of wavelet detail coefficients using fast proximal methods\n",
    "\n",
    "Although this is a 2D demo, the k-space sampling pattern used here would be appropriate only for a 3D scan with phase encoding in the two dimensions shown here.  So this demo is akin to a single slice of a 3D scan with 2D undersampling.\n",
    "\n",
    "This demo also reproduces Figs. 1 & 3 in the survey paper\n",
    "\"Optimization methods for MR image reconstruction\"\n",
    "in Jan 2020 IEEE Signal Processing Magazine\n",
    "[http://doi.org/10.1109/MSP.2019.2943645]\n",
    "\n",
    "2019-03-06 Jeff Fessler, University of Michigan"
   ]
  },
  {
   "cell_type": "code",
   "execution_count": null,
   "metadata": {},
   "outputs": [],
   "source": [
    "# load all packages needed for this demo \n",
    "# https://github.com/JeffFessler/MIRT.jl:\n",
    "using MIRT: ellipse_im, jim, prompt, embed, Afft, diffl_map, Aodwt\n",
    "using MIRT: ncg, ogm_ls, pogm_restart\n",
    "using LinearAlgebra\n",
    "using Plots; default(markerstrokecolor=:auto)\n",
    "#using LinearMapsAA\n",
    "using FFTW\n",
    "using Random: seed!"
   ]
  },
  {
   "cell_type": "markdown",
   "metadata": {},
   "source": [
    "### Create (synthetic) data"
   ]
  },
  {
   "cell_type": "code",
   "execution_count": null,
   "metadata": {},
   "outputs": [],
   "source": [
    "# shepp-logan phantom\n",
    "nx,ny = 192,256\n",
    "Xtrue = ellipse_im(ny, oversample=2)[Int((ny-nx)/2+1):Int(ny-(ny-nx)/2),:]\n",
    "#Xtrue = ellipse_im(192, ny=256, oversample=2) # too small\n",
    "nx,ny = size(Xtrue)\n",
    "jim(Xtrue, \"true image\")\n",
    "#prompt()"
   ]
  },
  {
   "cell_type": "code",
   "execution_count": null,
   "metadata": {
    "lines_to_next_cell": 2
   },
   "outputs": [],
   "source": [
    "#savefig(\"xtrue.pdf\")"
   ]
  },
  {
   "cell_type": "code",
   "execution_count": null,
   "metadata": {
    "lines_to_next_cell": 2
   },
   "outputs": [],
   "source": [
    "# generate noisy, under-sampled k-space data\n",
    "M,N = nx,ny\n",
    "seed!(0); sampfrac = 0.3; samp = rand(M,N) .< sampfrac; sig = 1\n",
    "mod2 = (N) -> mod.((0:N-1) .+ Int(N/2), N) .- Int(N/2)\n",
    "samp .|= (abs.(mod2(M)) .< Int(M/8)) * (abs.(mod2(N)) .< Int(N/8))' # fully sampled center\n",
    "@show sum(samp) / (M*N) # under-sampling factor\n",
    "\n",
    "ytrue = fft(Xtrue)[samp]\n",
    "y = ytrue + sig * √(2) * randn(ComplexF32, size(ytrue)) # complex noise!\n",
    "ysnr = 20 * log10(norm(ytrue) / norm(y-ytrue))\n",
    "@show ysnr;"
   ]
  },
  {
   "cell_type": "code",
   "execution_count": null,
   "metadata": {
    "lines_to_next_cell": 2
   },
   "outputs": [],
   "source": [
    "# display k-space sampling and zero-filled data\n",
    "logger = (x;min=-6) -> log10.(max.(abs.(x) / maximum(abs.(x)), (10.)^min))\n",
    "p1 = jim(samp, fft0=true, title=\"k-space sampling\")\n",
    "#savefig(p1, \"samp.pdf\")\n",
    "jim(:abswarn, false) # suppress warnings about showing magnitude\n",
    "p2 = jim(logger(embed(ytrue,samp)), fft0=true, title=\"k-space |data|\")\n",
    "plot(p1,p2)"
   ]
  },
  {
   "cell_type": "markdown",
   "metadata": {},
   "source": [
    "### Prepare to reconstruct\n",
    "Creating a system matrix (encoding matrix) and an initial image  \n",
    "The system matrix is a `LinearMapAA` object, akin to a `fatrix` in Matlab MIRT."
   ]
  },
  {
   "cell_type": "code",
   "execution_count": null,
   "metadata": {},
   "outputs": [],
   "source": [
    "# system model from MIRT\n",
    "F = Afft(samp) # operator!"
   ]
  },
  {
   "cell_type": "code",
   "execution_count": null,
   "metadata": {
    "lines_to_next_cell": 2
   },
   "outputs": [],
   "source": [
    "# initial image based on zero-filled reconstruction\n",
    "nrmse = (x) -> norm(x - Xtrue) / norm(Xtrue)\n",
    "X0 = 1/(M*N) * (F' * y)\n",
    "@show nrmse(X0)\n",
    "jim(X0, \"|X0|: initial image\")\n",
    "#prompt()"
   ]
  },
  {
   "cell_type": "markdown",
   "metadata": {},
   "source": [
    "### Case 1: Edge-preserving regularization\n",
    "\n",
    "The cost function here is\n",
    "$\n",
    "1/2 \\|A x - y\\|^2 + \\beta \\; \\psi(T x)\n",
    "$\n",
    "where $\\psi$ is the Fair potential function\n",
    "and $T$ is first-order finite differences in 2D,\n",
    "again implemented as a `LinearMapAA` object."
   ]
  },
  {
   "cell_type": "code",
   "execution_count": null,
   "metadata": {},
   "outputs": [],
   "source": [
    "# Cost function for edge-preserving regularization\n",
    "A = F\n",
    "delta = 0.1\n",
    "reg = 0.01 * M * N\n",
    "# finite differences sparsifying transform for anisotropic TV:\n",
    "T = diffl_map((M,N), 1:2 ; T=ComplexF32) # LinearMapAO\n",
    "pot = (z,del) -> del^2 * (abs(z)/del - log(1 + abs(z)/del)) # Fair potential function\n",
    "cost = (x) -> 1/2 * norm(A * x - y)^2 + reg * sum(pot.(T*x, delta))\n",
    "dpot = (z,del) -> z / (1 + abs(z)/del) # potential derivative"
   ]
  },
  {
   "cell_type": "code",
   "execution_count": null,
   "metadata": {},
   "outputs": [],
   "source": [
    "# Nonlinear CG recon using edge-preserving regularization\n",
    "fun = (x,iter) -> (cost(x), nrmse(x), time())\n",
    "niter = 50\n",
    "if !@isdefined(Xcg)\n",
    "    Xcg, out_cg = ncg([A, T],\n",
    "        [u -> u - y, v -> reg * dpot.(v,delta)], [t -> 1, t -> reg],\n",
    "        X0, niter=niter, fun=fun)\n",
    "end\n",
    "@show nrmse(Xcg)"
   ]
  },
  {
   "cell_type": "code",
   "execution_count": null,
   "metadata": {},
   "outputs": [],
   "source": [
    "jim(Xcg, \"CG: edge-preserving regularization\")\n",
    "#prompt()"
   ]
  },
  {
   "cell_type": "code",
   "execution_count": null,
   "metadata": {
    "lines_to_next_cell": 2
   },
   "outputs": [],
   "source": [
    "#savefig(\"xcg.pdf\")"
   ]
  },
  {
   "cell_type": "code",
   "execution_count": null,
   "metadata": {
    "lines_to_next_cell": 2
   },
   "outputs": [],
   "source": [
    "# Nesterov FGM recon using edge-preserving regularization\n",
    "if !@isdefined(Xfgm)\n",
    "    fun_fgm = (iter,xk,yk,rs) -> (cost(yk), nrmse(yk), rs)\n",
    "    f_grad = (x) -> A'*(A*x - y) + reg * (T' * dpot.(T * x, delta))\n",
    "    L_f = N*M + 8*reg\n",
    "    Xfgm, out_fgm = pogm_restart(X0, cost, f_grad, L_f;\n",
    "        mom=:fpgm, niter=niter, fun=fun_fgm)\n",
    "    @show nrmse(Xfgm)\n",
    "end\n",
    "jim(Xfgm, \"FGM recon with edge-preserving regularization\")\n",
    "#prompt()"
   ]
  },
  {
   "cell_type": "code",
   "execution_count": null,
   "metadata": {},
   "outputs": [],
   "source": [
    "# OGM line-search recon using edge-preserving regularization\n",
    "if !@isdefined(Xogm)\n",
    "    Xogm, out_ogm = ogm_ls([A, T],\n",
    "        [u -> u - y, v -> reg * dpot.(v,delta)], [t -> 1, t -> reg],\n",
    "        X0, niter=niter, ninner=20, fun=fun)\n",
    "end\n",
    "@show nrmse(Xogm)"
   ]
  },
  {
   "cell_type": "code",
   "execution_count": null,
   "metadata": {},
   "outputs": [],
   "source": [
    "jim(Xogm, \"OGM recon with edge-preserving regularization\")\n",
    "#prompt()"
   ]
  },
  {
   "cell_type": "code",
   "execution_count": null,
   "metadata": {},
   "outputs": [],
   "source": [
    "p1 = jim(Xtrue, \"true\")\n",
    "p2 = jim(X0, \"X0: initial\")\n",
    "p3 = jim(Xcg, \"CG recon\")\n",
    "p5 = jim(X0 - Xtrue, \"X0 error\")\n",
    "p6 = jim(Xcg - Xtrue, \"Xcg error\")\n",
    "plot(p1, p2, p3, p1, p5, p6)\n",
    "#plot(p1, p2, p3, layout=(1,3))\n",
    "#plot(p5, p6)\n",
    "#prompt()"
   ]
  },
  {
   "cell_type": "code",
   "execution_count": null,
   "metadata": {
    "lines_to_next_cell": 2
   },
   "outputs": [],
   "source": [
    "# POGM - suboptimal in smooth case\n",
    "if false\n",
    "    fun_pogm = (iter,xk,yk,rs) -> (cost(xk), nrmse(xk), rs)\n",
    "    f_grad = (x) -> A'*(A*x - y) + reg * (T' * dpot.(T * x, delta))\n",
    "    L_f = N*M + 8*reg\n",
    "    Xpogm, out_pogm = pogm_restart(X0, cost, f_grad, L_f;\n",
    "        mom=:pogm, niter=niter, fun=fun_pogm)\n",
    "    @show nrmse(Xpogm)\n",
    "end"
   ]
  },
  {
   "cell_type": "code",
   "execution_count": null,
   "metadata": {},
   "outputs": [],
   "source": [
    "# plot cost vs iteration\n",
    "cost_cg = [out_cg[k][1] for k=1:niter+1]\n",
    "cost_fgm = [out_fgm[k][1] for k=1:niter+1]\n",
    "cost_ogm = [out_ogm[k][1] for k=1:niter+1]\n",
    "cost_min = min(minimum(cost_cg), minimum(cost_ogm))\n",
    "plot(xlabel=\"iteration k\", ylabel=\"Relative Cost\", ytick=[0,8e4])\n",
    "scatter!(0:niter, cost_fgm .- cost_min, markershape=:square, label=\"Cost FGM\")\n",
    "scatter!(0:niter, cost_ogm .- cost_min, markershape=:utriangle, label=\"Cost OGM\")\n",
    "scatter!(0:niter, cost_cg  .- cost_min, label=\"Cost CG\")\n",
    "#prompt()"
   ]
  },
  {
   "cell_type": "code",
   "execution_count": null,
   "metadata": {},
   "outputs": [],
   "source": [
    "#savefig(\"cost_ogm_cg.pdf\")\n",
    "#savefig(\"cost_fgm_ogm_cg.pdf\")"
   ]
  },
  {
   "cell_type": "code",
   "execution_count": null,
   "metadata": {},
   "outputs": [],
   "source": [
    "# plot nrmse vs iteration\n",
    "nrmse_cg = [out_cg[k][2] for k=1:niter+1]\n",
    "nrmse_fgm = [out_fgm[k][2] for k=1:niter+1]\n",
    "nrmse_ogm = [out_ogm[k][2] for k=1:niter+1]\n",
    "#nrmse_pogm = [out_pogm[k][2] for k=1:niter+1]\n",
    "plot(xlabel=\"iteration k\", ylabel=\"NRMSE\")\n",
    "scatter!(0:niter, nrmse_fgm, markershape=:square, label=\"NRMSE FGM\")\n",
    "scatter!(0:niter, nrmse_ogm, markershape=:utriangle, label=\"NRMSE OGM\")\n",
    "scatter!(0:niter, nrmse_cg, label=\"NRMSE CG\")\n",
    "#scatter!(0:niter, nrmse_pogm, label=\"NRMSE POGM\")\n",
    "#prompt()"
   ]
  },
  {
   "cell_type": "markdown",
   "metadata": {},
   "source": [
    "savefig(\"nrmse_ogm_cg.pdf\")"
   ]
  },
  {
   "cell_type": "markdown",
   "metadata": {},
   "source": [
    "nrmse(x_pogm), nrmse(X0)"
   ]
  },
  {
   "cell_type": "markdown",
   "metadata": {
    "lines_to_next_cell": 2
   },
   "source": [
    "?pogm_restart"
   ]
  },
  {
   "cell_type": "markdown",
   "metadata": {},
   "source": [
    "### Case 2: Wavelet sparsity in synthesis form\n",
    "\n",
    "The cost function here is\n",
    "$\n",
    "1/2 \\|A x - y\\|^2 + \\beta \\; \\|W x\\|_1\n",
    "$\n",
    "where\n",
    "and $W$ is an orthogonal discrete (Haar) wavelet transform,\n",
    "again implemented as a `LinearMapAA` object.\n",
    "Because $W$ is unitary,\n",
    "we make the change of variables\n",
    "$z = W x$\n",
    "and solve for $z$\n",
    "and then let $x = W' z$\n",
    "at the end."
   ]
  },
  {
   "cell_type": "code",
   "execution_count": null,
   "metadata": {},
   "outputs": [],
   "source": [
    "# Orthogonal discrete wavelet transform (LinearMapAO)\n",
    "W, scales, _ = Aodwt((M,N) ; T = eltype(T))\n",
    "jim(real(W * Xtrue) .* (scales .> 0), \"wavelet detail coefficients\")\n",
    "#prompt()"
   ]
  },
  {
   "cell_type": "code",
   "execution_count": null,
   "metadata": {
    "lines_to_next_cell": 2
   },
   "outputs": [],
   "source": [
    "# Cost function for edge-preserving regularization\n",
    "Az = F * W'\n",
    "Fnullz = (z) -> 0 # not needed\n",
    "f_gradz = (z) -> Az' * (Az * z - y)\n",
    "f_Lz = M*N # single coil cartesian DFT\n",
    "regz = 0.03 * M * N # oracle from Xtrue wavelet coefficients!\n",
    "pot = (z,del) -> del^2 * (abs(z)/del - log(1 + abs(z)/del)) # Fair potential function\n",
    "costz = (z) -> 1/2 * norm(Az * z - y)^2 + reg * norm(z,1) # 1-norm regularizer\n",
    "soft = (z,c) -> sign(z) * max(abs(z) - c, 0) # soft thresholding\n",
    "g_prox = (z,c) -> soft.(z, regz * c) # proximal operator\n",
    "z0 = W * X0;"
   ]
  },
  {
   "cell_type": "markdown",
   "metadata": {},
   "source": [
    "#### Run ISTA=PGM and FISTA=FPGM and POGM, the latter two with adaptive restart\n",
    "See [http://doi.org/10.1007/s10957-018-1287-4]"
   ]
  },
  {
   "cell_type": "code",
   "execution_count": null,
   "metadata": {},
   "outputs": [],
   "source": [
    "# Run proximal methods\n",
    "function fun_ista(iter, xk_z, yk, is_restart)\n",
    "    if mod(iter, 50) == 0\n",
    "#        @show iter\n",
    "    end\n",
    "    xh = W' * xk_z\n",
    "return (costz(xk_z), nrmse(xh), is_restart) # , psnr(xh)) # time()\n",
    "end\n",
    "\n",
    "function fun_fista(iter, xk, yk_z, is_restart)\n",
    "    xh = W' * yk_z\n",
    "    return (costz(yk_z), nrmse(xh), is_restart) # , psnr(xh)) # time()\n",
    "end\n",
    "\n",
    "z_ista, out_ista = pogm_restart(z0, Fnullz, f_gradz, f_Lz; mom=:pgm, niter=niter,\n",
    "    restart=:none, restart_cutoff=0., g_prox=g_prox, fun=fun_ista)\n",
    "Xista = W'*z_ista\n",
    "@show nrmse(Xista)\n",
    "\n",
    "z_fista, out_fista = pogm_restart(z0, Fnullz, f_gradz, f_Lz; mom=:fpgm, niter=niter,\n",
    "    restart=:gr, restart_cutoff=0., g_prox=g_prox, fun=fun_fista)\n",
    "Xfista = W'*z_fista\n",
    "@show nrmse(Xfista)\n",
    "\n",
    "z_pogm, out_pogm = pogm_restart(z0, Fnullz, f_gradz, f_Lz; mom=:pogm, niter=niter,\n",
    "    restart=:gr, restart_cutoff=0., g_prox=g_prox, fun=fun_fista)\n",
    "Xpogm = W'*z_pogm\n",
    "@show nrmse(Xpogm)\n",
    "\n",
    "jim(Xfista, \"FISTA/FPGM\")\n",
    "jim(Xpogm, \"POGM with ODWT\")\n",
    "#prompt()"
   ]
  },
  {
   "cell_type": "code",
   "execution_count": null,
   "metadata": {
    "lines_to_next_cell": 2
   },
   "outputs": [],
   "source": [
    "#savefig(\"xpogm_odwt.pdf\")"
   ]
  },
  {
   "cell_type": "code",
   "execution_count": null,
   "metadata": {},
   "outputs": [],
   "source": [
    "# plot cost vs iteration\n",
    "cost_ista = [out_ista[k][1] for k=1:niter+1]\n",
    "cost_fista = [out_fista[k][1] for k=1:niter+1]\n",
    "cost_pogm = [out_pogm[k][1] for k=1:niter+1]\n",
    "cost_min = min(minimum(cost_ista), minimum(cost_pogm))\n",
    "plot(xlabel=\"iteration k\", ylabel=\"Relative cost\")\n",
    "scatter!(0:niter, cost_ista  .- cost_min, label=\"Cost ISTA\")\n",
    "scatter!(0:niter, cost_fista .- cost_min, markershape=:square, label=\"Cost FISTA\")\n",
    "scatter!(0:niter, cost_pogm  .- cost_min, markershape=:utriangle, label=\"Cost POGM\")\n",
    "#prompt()"
   ]
  },
  {
   "cell_type": "code",
   "execution_count": null,
   "metadata": {
    "lines_to_next_cell": 2
   },
   "outputs": [],
   "source": [
    "#savefig(\"cost_pogm_odwt.pdf\")"
   ]
  },
  {
   "cell_type": "code",
   "execution_count": null,
   "metadata": {},
   "outputs": [],
   "source": [
    "# plot nrmse vs iteration\n",
    "nrmse_ista = [out_ista[k][2] for k=1:niter+1]\n",
    "nrmse_fista = [out_fista[k][2] for k=1:niter+1]\n",
    "nrmse_pogm = [out_pogm[k][2] for k=1:niter+1]\n",
    "plot(xlabel=\"iteration k\", ylabel=\"NRMSE\", ylim=[0.01,0.08])\n",
    "scatter!(0:niter, nrmse_ista, label=\"NRMSE ISTA\")\n",
    "scatter!(0:niter, nrmse_fista, markershape=:square, label=\"NRMSE FISTA\")\n",
    "scatter!(0:niter, nrmse_pogm, markershape=:utriangle, label=\"NRMSE POGM\")\n",
    "#prompt()"
   ]
  },
  {
   "cell_type": "code",
   "execution_count": null,
   "metadata": {},
   "outputs": [],
   "source": [
    "#savefig(\"nrmse_pogm_odwt.pdf\")"
   ]
  },
  {
   "cell_type": "code",
   "execution_count": null,
   "metadata": {},
   "outputs": [],
   "source": [
    "p1 = jim(Xtrue, \"true\")\n",
    "p2 = jim(X0, \"X0: initial\")\n",
    "p3 = jim(Xpogm, \"POGM recon\")\n",
    "p5 = jim(X0 - Xtrue, \"X0 error\")\n",
    "p6 = jim(Xpogm - Xtrue, \"Xpogm error\")\n",
    "plot(p1, p2, p3, p1, p5, p6)\n",
    "#plot(p1, p2, p3, layout=(1,3))\n",
    "#plot(p5, p6)\n",
    "#prompt()"
   ]
  }
 ],
 "metadata": {
  "kernelspec": {
   "display_name": "Julia 1.4.2",
   "language": "julia",
   "name": "julia-1.4"
  }
 },
 "nbformat": 4,
 "nbformat_minor": 2
}
