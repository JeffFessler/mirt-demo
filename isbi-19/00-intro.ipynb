{
 "cells": [
  {
   "cell_type": "markdown",
   "metadata": {},
   "source": [
    "### MRI reconstruction introductory notebook for ISBI 2019 tutorial\n",
    "\n",
    "This jupyter notebook is in a directory with other notebooks\n",
    "that demonstrate MRI reconstruction using the Julia language\n",
    "and the Michigan Image Reconstruction Toolbox (MIRT).\n",
    "\n",
    "2019-03-14 Jeff Fessler, University of Michigan"
   ]
  },
  {
   "cell_type": "markdown",
   "metadata": {},
   "source": [
    "### Initial steps\n",
    "\n",
    "See getting started instructions here:\n",
    "https://github.com/JeffFessler/MIRT.jl/blob/master/doc/start.md"
   ]
  },
  {
   "cell_type": "markdown",
   "metadata": {},
   "source": [
    "### Test your installation\n",
    "\n",
    "The next cell loads the packages needed for this initial test.\n",
    "It might take a little bit of time to run the first time you try it\n",
    "because Julia is essentially a compiled language under the hood,\n",
    "even though it feels like an interactive language to the user,\n",
    "so it will be compiling things behind the scenes."
   ]
  },
  {
   "cell_type": "code",
   "execution_count": null,
   "metadata": {},
   "outputs": [],
   "source": [
    "# Load all packages needed for this demo\n",
    "using MIRT: ellipse_im, jim # https://github.com/JeffFessler/MIRT.jl\n",
    "using FFTW: fft"
   ]
  },
  {
   "cell_type": "markdown",
   "metadata": {},
   "source": [
    "### View the Shepp-Logan image and its spectrum\n",
    "The `ellipse_im` function in MIRT can generate phantom images consisting of ellipses such as the Shepp-Logan image.\n",
    "\n",
    "The `jim` function in MIRT is a jiffy image display routine."
   ]
  },
  {
   "cell_type": "code",
   "execution_count": null,
   "metadata": {},
   "outputs": [],
   "source": [
    "image = ellipse_im(256, oversample=2)\n",
    "jim(image, \"Shepp-Logan Phantom\")"
   ]
  },
  {
   "cell_type": "code",
   "execution_count": null,
   "metadata": {},
   "outputs": [],
   "source": [
    "# calculate k-space data using fft\n",
    "kspace = fft(image) # this is a 2D FFT because \"image\" is a 2D array\n",
    "jim(kspace, fft0=true) # show k-space with 0 at center, ala matlab's \"fftshift\""
   ]
  },
  {
   "cell_type": "code",
   "execution_count": null,
   "metadata": {},
   "outputs": [],
   "source": [
    "# It is hard to see much on a linear scale, so now use a log scale\n",
    "logger = (x ; min=-6) -> log10.(max.(abs.(x) / maximum(abs.(x)), (10.)^min))\n",
    "jim(logger(kspace), \"k-space data on log scale\", fft0=true)"
   ]
  },
  {
   "cell_type": "markdown",
   "metadata": {},
   "source": [
    "### Getting help\n",
    "In addition to the documentation linked above,\n",
    "to learn about any command in Julia just type `?` followed by the command name\n",
    "and Julia will return the documentation string\n",
    "that goes with that command.\n",
    "Here is an example.\n",
    "This example illustrates the very useful \"multiple dispatch\" feature of Julia;\n",
    "essentially there are multiple versions of this function\n",
    "that you can call in several different ways\n",
    "with different argument combinations,\n",
    "and with optimal keyword arguments."
   ]
  },
  {
   "cell_type": "markdown",
   "metadata": {},
   "source": [
    "?jim # uncomment this line to see"
   ]
  },
  {
   "cell_type": "markdown",
   "metadata": {},
   "source": [
    "### End of introduction!\n",
    "\n",
    "If you got this far you are ready for more interesting demos next."
   ]
  }
 ],
 "metadata": {
  "kernelspec": {
   "display_name": "Julia 1.4.2",
   "language": "julia",
   "name": "julia-1.4"
  }
 },
 "nbformat": 4,
 "nbformat_minor": 2
}
